{
 "cells": [
  {
   "cell_type": "code",
   "execution_count": 1,
   "id": "96f5b4eb",
   "metadata": {},
   "outputs": [
    {
     "data": {
      "text/plain": [
       "<contextlib.ExitStack at 0x1c145056a40>"
      ]
     },
     "execution_count": 1,
     "metadata": {},
     "output_type": "execute_result"
    }
   ],
   "source": [
    "import math\n",
    "import random\n",
    "import matplotlib\n",
    "import matplotlib.pyplot as plt\n",
    "from collections import namedtuple, deque\n",
    "from itertools import count\n",
    "\n",
    "import torch\n",
    "import torch.nn as nn\n",
    "import torch.optim as optim\n",
    "import torch.nn.functional as F\n",
    "\n",
    "plt.ion()"
   ]
  },
  {
   "cell_type": "code",
   "execution_count": 2,
   "id": "e4e3b9b9",
   "metadata": {},
   "outputs": [],
   "source": [
    "# goal: use a RL agent to approximate y = sin x"
   ]
  },
  {
   "cell_type": "code",
   "execution_count": 3,
   "id": "a5f2d7b7",
   "metadata": {},
   "outputs": [],
   "source": [
    "# ground truth values\n",
    "\n",
    "x = torch.linspace(-math.pi, math.pi, 2000)\n",
    "y = torch.sin(x)\n",
    "x = x.unsqueeze(-1).pow(torch.tensor([1, 2, 3]))"
   ]
  },
  {
   "cell_type": "code",
   "execution_count": 4,
   "id": "292e5e54",
   "metadata": {},
   "outputs": [],
   "source": [
    "n_states = 3\n",
    "n_actions = 2 "
   ]
  },
  {
   "cell_type": "code",
   "execution_count": 5,
   "id": "fc8b2f09",
   "metadata": {},
   "outputs": [],
   "source": [
    "class Model(nn.Module):\n",
    "    def __init__(self, n_states, n_actions):\n",
    "        super(Model, self).__init__()\n",
    "        self.layer1 = nn.Linear(n_states, 10)\n",
    "        self.layer2 = nn.Linear(10, n_actions)\n",
    "    \n",
    "    def forward(self, x):\n",
    "        x = F.relu(self.layer1(x))\n",
    "        return self.layer2(x)\n",
    "\n",
    "Transition = namedtuple('Transition', ('state', 'action', 'reward', 'next_state'))\n",
    "\n",
    "class Memory(object):\n",
    "    def __init__(self, capacity):\n",
    "        self.memory = deque([], maxlen=capacity)\n",
    "    def push(self, *args):\n",
    "        self.memory.append(Transition(*args))\n",
    "    def sample(self, batch_size):\n",
    "        return random.sample(self.memory, batch_size)\n",
    "    def __len__(self):\n",
    "        return len(self.memory)\n",
    "    \n",
    "class Agent:\n",
    "    def __init__(self, n_states, n_actions):\n",
    "        self.batch_size = 128\n",
    "        self.gamma = 0.7\n",
    "        self.epsilon = 0.99\n",
    "        self.decay = 0.01\n",
    "        self.lr = 1e-4\n",
    "        \n",
    "        self.model = Model(n_states, n_actions)\n",
    "        self.memory = Memory(1000)\n",
    "        self.optimizer = optim.AdamW(self.model.parameters(), lr=self.lr, amsgrad=True)\n",
    "    \n",
    "    def get_action(self, state):\n",
    "        sample = random.random()\n",
    "        epsilon = self.epsilon*self.decay\n",
    "        if sample > epsilon:\n",
    "            with torch.no_grad():\n",
    "                return self.model(state).max(1).indices.view(1, 1)\n",
    "        else:\n",
    "            random_action = random.choice([0, 1])\n",
    "            return torch.tensor([[random_action]], dtype=torch.long)\n",
    "        \n",
    "    def update(self):\n",
    "        if len(self.memory) < self.batch_size:\n",
    "            return\n",
    "        transitions = self.memory.sample(self.batch_size)\n",
    "        batch = Transition(*zip(*transitions))\n",
    "        \n",
    "        state_batch = torch.cat(batch.state)\n",
    "        action_batch = torch.cat(batch.action)\n",
    "        reward_batch = torch.cat(batch.reward)\n",
    "        next_state_batch = torch.cat(batch.next_state)\n",
    "        \n",
    "        q_values = self.model(state_batch).gather(1, action_batch)\n",
    "        with torch.no_grad():\n",
    "            next_state_values = self.model(next_state).max(1).values\n",
    "        q_pred = (next_state_values * self.gamma) + reward_batch\n",
    "        \n",
    "        criterion = nn.MSELoss() # use Huber loss here to smooth results\n",
    "        loss = criterion(q_values, q_pred.unsqueeze(1)) \n",
    "        self.optimizer.zero_grad()\n",
    "        loss.backward()\n",
    "        self.optimizer.step()"
   ]
  },
  {
   "cell_type": "code",
   "execution_count": 6,
   "id": "15243a82",
   "metadata": {},
   "outputs": [],
   "source": [
    "# get step functon that returns next_state and reward\n",
    "# increase or decrease y-value of y = sin x plot by 0.01\n",
    "# goal is to have this be user-defined\n",
    "\n",
    "def step(state, action):\n",
    "    if action == 1:\n",
    "        next_state = state + 0.01\n",
    "    else:\n",
    "        next_state = state - 0.01\n",
    "    reward = torch.tensor([1], dtype=torch.long)\n",
    "    return next_state, reward"
   ]
  },
  {
   "cell_type": "code",
   "execution_count": 7,
   "id": "7b7e1987",
   "metadata": {},
   "outputs": [
    {
     "name": "stdout",
     "output_type": "stream",
     "text": [
      "tensor([[ -3.1000,   9.8000, -30.0000]]) tensor([[0]])\n",
      "tensor([[ -3.1100,   9.7900, -30.0100]]) tensor([[0]])\n",
      "tensor([[ -3.1200,   9.7800, -30.0200]]) tensor([[0]])\n",
      "tensor([[ -3.1300,   9.7700, -30.0300]]) tensor([[0]])\n",
      "tensor([[ -3.1400,   9.7600, -30.0400]]) tensor([[0]])\n",
      "tensor([[ -3.1500,   9.7500, -30.0500]]) tensor([[0]])\n",
      "tensor([[ -3.1600,   9.7400, -30.0600]]) tensor([[0]])\n",
      "tensor([[ -3.1700,   9.7300, -30.0700]]) tensor([[0]])\n",
      "tensor([[ -3.1800,   9.7200, -30.0800]]) tensor([[0]])\n",
      "tensor([[ -3.1900,   9.7100, -30.0900]]) tensor([[0]])\n"
     ]
    }
   ],
   "source": [
    "agent = Agent(n_states, n_actions)\n",
    "\n",
    "episodes = []\n",
    "state = torch.tensor([[-3.1, 9.8, -30.0]])\n",
    "\n",
    "for i in range(10):\n",
    "    action = agent.get_action(state)\n",
    "    print(state, action)\n",
    "    next_state, reward = step(state, action)\n",
    "    agent.memory.push(state, action, reward, next_state)\n",
    "    state = next_state\n",
    "    agent.update()"
   ]
  },
  {
   "cell_type": "code",
   "execution_count": 8,
   "id": "45461ec7",
   "metadata": {},
   "outputs": [
    {
     "data": {
      "text/plain": [
       "[Transition(state=tensor([[ -3.1200,   9.7800, -30.0200]]), action=tensor([[0]]), reward=tensor([1]), next_state=tensor([[ -3.1300,   9.7700, -30.0300]])),\n",
       " Transition(state=tensor([[ -3.1700,   9.7300, -30.0700]]), action=tensor([[0]]), reward=tensor([1]), next_state=tensor([[ -3.1800,   9.7200, -30.0800]])),\n",
       " Transition(state=tensor([[ -3.1400,   9.7600, -30.0400]]), action=tensor([[0]]), reward=tensor([1]), next_state=tensor([[ -3.1500,   9.7500, -30.0500]])),\n",
       " Transition(state=tensor([[ -3.1900,   9.7100, -30.0900]]), action=tensor([[0]]), reward=tensor([1]), next_state=tensor([[ -3.2000,   9.7000, -30.1000]])),\n",
       " Transition(state=tensor([[ -3.1300,   9.7700, -30.0300]]), action=tensor([[0]]), reward=tensor([1]), next_state=tensor([[ -3.1400,   9.7600, -30.0400]])),\n",
       " Transition(state=tensor([[ -3.1000,   9.8000, -30.0000]]), action=tensor([[0]]), reward=tensor([1]), next_state=tensor([[ -3.1100,   9.7900, -30.0100]])),\n",
       " Transition(state=tensor([[ -3.1800,   9.7200, -30.0800]]), action=tensor([[0]]), reward=tensor([1]), next_state=tensor([[ -3.1900,   9.7100, -30.0900]])),\n",
       " Transition(state=tensor([[ -3.1500,   9.7500, -30.0500]]), action=tensor([[0]]), reward=tensor([1]), next_state=tensor([[ -3.1600,   9.7400, -30.0600]])),\n",
       " Transition(state=tensor([[ -3.1100,   9.7900, -30.0100]]), action=tensor([[0]]), reward=tensor([1]), next_state=tensor([[ -3.1200,   9.7800, -30.0200]])),\n",
       " Transition(state=tensor([[ -3.1600,   9.7400, -30.0600]]), action=tensor([[0]]), reward=tensor([1]), next_state=tensor([[ -3.1700,   9.7300, -30.0700]]))]"
      ]
     },
     "execution_count": 8,
     "metadata": {},
     "output_type": "execute_result"
    }
   ],
   "source": [
    "agent.memory.sample(10)"
   ]
  },
  {
   "cell_type": "code",
   "execution_count": 9,
   "id": "1a5a66cc",
   "metadata": {},
   "outputs": [
    {
     "data": {
      "text/plain": [
       "OrderedDict([('layer1.weight',\n",
       "              tensor([[-0.0297,  0.4871, -0.0171],\n",
       "                      [-0.4319,  0.0688,  0.2384],\n",
       "                      [ 0.1314,  0.2184,  0.0897],\n",
       "                      [-0.2597, -0.3488,  0.2309],\n",
       "                      [ 0.0962, -0.3886,  0.0303],\n",
       "                      [-0.3578,  0.2764,  0.5335],\n",
       "                      [ 0.2767, -0.5136,  0.1847],\n",
       "                      [ 0.2969,  0.5040,  0.3995],\n",
       "                      [-0.2637, -0.1289,  0.0143],\n",
       "                      [ 0.1578, -0.5228, -0.1580]])),\n",
       "             ('layer1.bias',\n",
       "              tensor([-0.0792, -0.5499,  0.4758, -0.5061,  0.5100, -0.3410,  0.0103, -0.0888,\n",
       "                       0.1776, -0.5216])),\n",
       "             ('layer2.weight',\n",
       "              tensor([[-0.0397,  0.0260, -0.0692, -0.2167,  0.0625, -0.1226, -0.1632,  0.2986,\n",
       "                       -0.2895,  0.2575],\n",
       "                      [-0.1252,  0.2303,  0.0686,  0.0057, -0.2941,  0.2286,  0.1180,  0.0467,\n",
       "                        0.2879,  0.0921]])),\n",
       "             ('layer2.bias', tensor([0.2128, 0.1430]))])"
      ]
     },
     "execution_count": 9,
     "metadata": {},
     "output_type": "execute_result"
    }
   ],
   "source": [
    "agent.model.state_dict()"
   ]
  },
  {
   "cell_type": "code",
   "execution_count": 10,
   "id": "27bb1c6e",
   "metadata": {},
   "outputs": [],
   "source": [
    "# plotting state_dict function should get an approximation of sin x"
   ]
  },
  {
   "cell_type": "code",
   "execution_count": 15,
   "id": "ae9ac90a",
   "metadata": {},
   "outputs": [],
   "source": [
    "linear_layer = agent.model.layer2"
   ]
  },
  {
   "cell_type": "code",
   "execution_count": 16,
   "id": "25e59762",
   "metadata": {},
   "outputs": [
    {
     "data": {
      "text/plain": [
       "tensor([-0.0397, -0.1252], grad_fn=<SelectBackward0>)"
      ]
     },
     "execution_count": 16,
     "metadata": {},
     "output_type": "execute_result"
    }
   ],
   "source": [
    "linear_layer.weight[:, 0]"
   ]
  },
  {
   "cell_type": "code",
   "execution_count": 19,
   "id": "690bf7b0",
   "metadata": {},
   "outputs": [],
   "source": [
    "y_result = linear_layer.bias[0].item() + \\\n",
    "           linear_layer.weight[:, 0][0].item()*x + \\\n",
    "           linear_layer.weight[:, 1][0].item()*x**2 + \\\n",
    "           linear_layer.weight[:, 2][0].item()*x**3"
   ]
  },
  {
   "cell_type": "code",
   "execution_count": 22,
   "id": "a15931ed",
   "metadata": {},
   "outputs": [
    {
     "data": {
      "text/plain": [
       "tensor([[ 2.7396e+00, -6.4166e+01,  2.0891e+03],\n",
       "        [ 2.7325e+00, -6.3777e+01,  2.0704e+03],\n",
       "        [ 2.7255e+00, -6.3390e+01,  2.0519e+03],\n",
       "        ...,\n",
       "        [-1.7883e+00, -6.3390e+01, -2.0021e+03],\n",
       "        [-1.7944e+00, -6.3777e+01, -2.0203e+03],\n",
       "        [-1.8004e+00, -6.4166e+01, -2.0386e+03]])"
      ]
     },
     "execution_count": 22,
     "metadata": {},
     "output_type": "execute_result"
    }
   ],
   "source": [
    "y_result"
   ]
  },
  {
   "cell_type": "code",
   "execution_count": null,
   "id": "a3dbe157",
   "metadata": {},
   "outputs": [],
   "source": []
  }
 ],
 "metadata": {
  "kernelspec": {
   "display_name": "Python 3 (ipykernel)",
   "language": "python",
   "name": "python3"
  },
  "language_info": {
   "codemirror_mode": {
    "name": "ipython",
    "version": 3
   },
   "file_extension": ".py",
   "mimetype": "text/x-python",
   "name": "python",
   "nbconvert_exporter": "python",
   "pygments_lexer": "ipython3",
   "version": "3.10.12"
  }
 },
 "nbformat": 4,
 "nbformat_minor": 5
}
