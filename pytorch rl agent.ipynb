{
 "cells": [
  {
   "cell_type": "code",
   "execution_count": 10,
   "metadata": {},
   "outputs": [],
   "source": [
    "import math\n",
    "import random\n",
    "import matplotlib\n",
    "import matplotlib.pyplot as plt\n",
    "from collections import namedtuple, deque\n",
    "from itertools import count\n",
    "\n",
    "import torch\n",
    "import torch.nn as nn\n",
    "import torch.optim as optim\n",
    "import torch.nn.functional as F\n",
    "\n",
    "plt.ion()"
   ]
  },
  {
   "cell_type": "code",
   "execution_count": 11,
   "metadata": {},
   "outputs": [],
   "source": [
    "# goal: use a RL agent to approximate y = sin x"
   ]
  },
  {
   "cell_type": "code",
   "execution_count": 12,
   "metadata": {},
   "outputs": [],
   "source": [
    "# ground truth values\n",
    "\n",
    "x = torch.linspace(-math.pi, math.pi, 2000)\n",
    "y = torch.sin(x)\n",
    "x = x.unsqueeze(-1).pow(torch.tensor([1, 2, 3]))"
   ]
  },
  {
   "cell_type": "code",
   "execution_count": 13,
   "metadata": {},
   "outputs": [],
   "source": [
    "n_states = 3\n",
    "n_actions = 2 "
   ]
  },
  {
   "cell_type": "code",
   "execution_count": 14,
   "metadata": {},
   "outputs": [],
   "source": [
    "class Model(nn.Module):\n",
    "    def __init__(self, n_states, n_actions):\n",
    "        super(Model, self).__init__()\n",
    "        self.layer1 = nn.Linear(n_states, 10)\n",
    "        self.layer2 = nn.Linear(10, n_actions)\n",
    "    \n",
    "    def forward(self, x):\n",
    "        x = F.relu(self.layer1(x))\n",
    "        return self.layer2(x)\n",
    "\n",
    "Transition = namedtuple('Transition', ('state', 'action', 'reward', 'next_state'))\n",
    "\n",
    "class Memory(object):\n",
    "    def __init__(self, capacity):\n",
    "        self.memory = deque([], maxlen=capacity)\n",
    "    def push(self, *args):\n",
    "        self.memory.append(Transition(*args))\n",
    "    def sample(self, batch_size):\n",
    "        return random.sample(self.memory, batch_size)\n",
    "    def __len__(self):\n",
    "        return len(self.memory)\n",
    "    \n",
    "class Agent:\n",
    "    def __init__(self, n_states, n_actions):\n",
    "        self.batch_size = 128\n",
    "        self.gamma = 0.7\n",
    "        self.epsilon = 0.99\n",
    "        self.decay = 0.01\n",
    "        self.lr = 1e-4\n",
    "        \n",
    "        self.model = Model(n_states, n_actions)\n",
    "        self.memory = Memory(1000)\n",
    "        self.optimizer = optim.AdamW(self.model.parameters(), lr=self.lr, amsgrad=True)\n",
    "    \n",
    "    def get_action(self, state):\n",
    "        sample = random.random()\n",
    "        epsilon = self.epsilon*self.decay\n",
    "        if sample > epsilon:\n",
    "            with torch.no_grad():\n",
    "                return self.model(state).max(1).indices.view(1, 1)\n",
    "        else:\n",
    "            random_action = random.choice([0, 1])\n",
    "            return torch.tensor([[random_action]], dtype=torch.long)\n",
    "        \n",
    "    def update(self):\n",
    "        if len(self.memory) < self.batch_size:\n",
    "            return\n",
    "        transitions = self.memory.sample(self.batch_size)\n",
    "        batch = Transition(*zip(*transitions))\n",
    "        \n",
    "        state_batch = torch.cat(batch.state)\n",
    "        action_batch = torch.cat(batch.action)\n",
    "        reward_batch = torch.cat(batch.reward)\n",
    "        next_state_batch = torch.cat(batch.next_state)\n",
    "        \n",
    "        q_values = self.model(state_batch).gather(1, action_batch)\n",
    "        with torch.no_grad():\n",
    "            next_state_values = self.model(next_state).max(1).values\n",
    "        q_pred = (next_state_values * self.gamma) + reward_batch\n",
    "        \n",
    "        criterion = nn.MSELoss() # use Huber loss here to smooth results\n",
    "        loss = criterion(q_values, q_pred.unsqueeze(1)) \n",
    "        self.optimizer.zero_grad()\n",
    "        loss.backward()\n",
    "        self.optimizer.step()"
   ]
  },
  {
   "cell_type": "code",
   "execution_count": 15,
   "metadata": {},
   "outputs": [],
   "source": [
    "# get step functon that returns next_state and reward\n",
    "# increase or decrease y-value of y = sin x plot by 0.01\n",
    "# goal is to have this be user-defined\n",
    "\n",
    "def step(state, action):\n",
    "    if action == 1:\n",
    "        next_state = state + 0.01\n",
    "    else:\n",
    "        next_state = state - 0.01\n",
    "    reward = torch.tensor([1], dtype=torch.long)\n",
    "    return next_state, reward"
   ]
  },
  {
   "cell_type": "code",
   "execution_count": 16,
   "metadata": {},
   "outputs": [
    {
     "name": "stdout",
     "output_type": "stream",
     "text": [
      "tensor([[ -3.1000,   9.8000, -30.0000]]) tensor([[1]])\n",
      "tensor([[ -3.0900,   9.8100, -29.9900]]) tensor([[1]])\n",
      "tensor([[ -3.0800,   9.8200, -29.9800]]) tensor([[1]])\n",
      "tensor([[ -3.0700,   9.8300, -29.9700]]) tensor([[1]])\n",
      "tensor([[ -3.0600,   9.8400, -29.9600]]) tensor([[1]])\n",
      "tensor([[ -3.0500,   9.8500, -29.9500]]) tensor([[1]])\n",
      "tensor([[ -3.0400,   9.8600, -29.9400]]) tensor([[1]])\n",
      "tensor([[ -3.0300,   9.8700, -29.9300]]) tensor([[1]])\n",
      "tensor([[ -3.0200,   9.8800, -29.9200]]) tensor([[1]])\n",
      "tensor([[ -3.0100,   9.8900, -29.9100]]) tensor([[1]])\n"
     ]
    }
   ],
   "source": [
    "agent = Agent(n_states, n_actions)\n",
    "\n",
    "episodes = []\n",
    "state = torch.tensor([[-3.1, 9.8, -30.0]])\n",
    "\n",
    "for i in range(10):\n",
    "    action = agent.get_action(state)\n",
    "    print(state, action)\n",
    "    next_state, reward = step(state, action)\n",
    "    agent.memory.push(state, action, reward, next_state)\n",
    "    state = next_state\n",
    "    agent.update()"
   ]
  },
  {
   "cell_type": "code",
   "execution_count": 17,
   "metadata": {},
   "outputs": [
    {
     "data": {
      "text/plain": [
       "[Transition(state=tensor([[ -3.0200,   9.8800, -29.9200]]), action=tensor([[1]]), reward=tensor([1]), next_state=tensor([[ -3.0100,   9.8900, -29.9100]])),\n",
       " Transition(state=tensor([[ -3.0400,   9.8600, -29.9400]]), action=tensor([[1]]), reward=tensor([1]), next_state=tensor([[ -3.0300,   9.8700, -29.9300]])),\n",
       " Transition(state=tensor([[ -3.1000,   9.8000, -30.0000]]), action=tensor([[1]]), reward=tensor([1]), next_state=tensor([[ -3.0900,   9.8100, -29.9900]])),\n",
       " Transition(state=tensor([[ -3.0500,   9.8500, -29.9500]]), action=tensor([[1]]), reward=tensor([1]), next_state=tensor([[ -3.0400,   9.8600, -29.9400]])),\n",
       " Transition(state=tensor([[ -3.0900,   9.8100, -29.9900]]), action=tensor([[1]]), reward=tensor([1]), next_state=tensor([[ -3.0800,   9.8200, -29.9800]])),\n",
       " Transition(state=tensor([[ -3.0700,   9.8300, -29.9700]]), action=tensor([[1]]), reward=tensor([1]), next_state=tensor([[ -3.0600,   9.8400, -29.9600]])),\n",
       " Transition(state=tensor([[ -3.0800,   9.8200, -29.9800]]), action=tensor([[1]]), reward=tensor([1]), next_state=tensor([[ -3.0700,   9.8300, -29.9700]])),\n",
       " Transition(state=tensor([[ -3.0100,   9.8900, -29.9100]]), action=tensor([[1]]), reward=tensor([1]), next_state=tensor([[ -3.0000,   9.9000, -29.9000]])),\n",
       " Transition(state=tensor([[ -3.0600,   9.8400, -29.9600]]), action=tensor([[1]]), reward=tensor([1]), next_state=tensor([[ -3.0500,   9.8500, -29.9500]])),\n",
       " Transition(state=tensor([[ -3.0300,   9.8700, -29.9300]]), action=tensor([[1]]), reward=tensor([1]), next_state=tensor([[ -3.0200,   9.8800, -29.9200]]))]"
      ]
     },
     "execution_count": 17,
     "metadata": {},
     "output_type": "execute_result"
    }
   ],
   "source": [
    "agent.memory.sample(10)"
   ]
  },
  {
   "cell_type": "code",
   "execution_count": 18,
   "metadata": {},
   "outputs": [
    {
     "data": {
      "text/plain": [
       "OrderedDict([('layer1.weight',\n",
       "              tensor([[-0.4282,  0.4636,  0.0773],\n",
       "                      [-0.3766,  0.1119, -0.0088],\n",
       "                      [ 0.2945,  0.4114,  0.2721],\n",
       "                      [ 0.5460,  0.3432, -0.3135],\n",
       "                      [ 0.3919,  0.2815,  0.1311],\n",
       "                      [ 0.4624,  0.1530, -0.4005],\n",
       "                      [-0.3883,  0.2627, -0.5057],\n",
       "                      [ 0.2026,  0.0338, -0.4828],\n",
       "                      [-0.4734,  0.4617,  0.3300],\n",
       "                      [ 0.2952,  0.0548,  0.4848]])),\n",
       "             ('layer1.bias',\n",
       "              tensor([-0.2972, -0.0352,  0.4661, -0.1220,  0.3902,  0.2373, -0.3435,  0.1794,\n",
       "                      -0.1015,  0.1087])),\n",
       "             ('layer2.weight',\n",
       "              tensor([[-0.0950, -0.2298, -0.2503, -0.2926,  0.0731, -0.1781,  0.0795,  0.0688,\n",
       "                        0.0209,  0.0566],\n",
       "                      [-0.0774,  0.1688, -0.0010,  0.0757,  0.2357, -0.2544,  0.1859,  0.2204,\n",
       "                       -0.2867, -0.1937]])),\n",
       "             ('layer2.bias', tensor([-0.2680,  0.0086]))])"
      ]
     },
     "execution_count": 18,
     "metadata": {},
     "output_type": "execute_result"
    }
   ],
   "source": [
    "agent.model.state_dict()"
   ]
  },
  {
   "cell_type": "code",
   "execution_count": 19,
   "metadata": {},
   "outputs": [],
   "source": [
    "# plotting state_dict function should get an approximation of sin x"
   ]
  },
  {
   "cell_type": "code",
   "execution_count": 20,
   "metadata": {},
   "outputs": [],
   "source": [
    "linear_layer = agent.model.layer2"
   ]
  },
  {
   "cell_type": "code",
   "execution_count": 21,
   "metadata": {},
   "outputs": [
    {
     "data": {
      "text/plain": [
       "tensor([-0.0950, -0.0774], grad_fn=<SelectBackward>)"
      ]
     },
     "execution_count": 21,
     "metadata": {},
     "output_type": "execute_result"
    }
   ],
   "source": [
    "linear_layer.weight[:, 0]"
   ]
  },
  {
   "cell_type": "code",
   "execution_count": 22,
   "metadata": {},
   "outputs": [],
   "source": [
    "y_result = linear_layer.bias[0].item() + \\\n",
    "           linear_layer.weight[:, 0][0].item()*x + \\\n",
    "           linear_layer.weight[:, 1][0].item()*x**2 + \\\n",
    "           linear_layer.weight[:, 2][0].item()*x**3"
   ]
  },
  {
   "cell_type": "code",
   "execution_count": 23,
   "metadata": {},
   "outputs": [
    {
     "data": {
      "text/plain": [
       "tensor([[ 5.5238e+00, -2.6423e+02,  7.2433e+03],\n",
       "        [ 5.5047e+00, -2.6270e+02,  7.1777e+03],\n",
       "        [ 5.4858e+00, -2.6118e+02,  7.1126e+03],\n",
       "        ...,\n",
       "        [-1.0539e+01, -2.6118e+02, -7.5497e+03],\n",
       "        [-1.0567e+01, -2.6270e+02, -7.6174e+03],\n",
       "        [-1.0596e+01, -2.6423e+02, -7.6856e+03]])"
      ]
     },
     "execution_count": 23,
     "metadata": {},
     "output_type": "execute_result"
    }
   ],
   "source": [
    "y_result"
   ]
  },
  {
   "cell_type": "code",
   "execution_count": null,
   "metadata": {},
   "outputs": [],
   "source": []
  }
 ],
 "metadata": {
  "kernelspec": {
   "display_name": "Python 3",
   "language": "python",
   "name": "python3"
  },
  "language_info": {
   "codemirror_mode": {
    "name": "ipython",
    "version": 3
   },
   "file_extension": ".py",
   "mimetype": "text/x-python",
   "name": "python",
   "nbconvert_exporter": "python",
   "pygments_lexer": "ipython3",
   "version": "3.8.5"
  }
 },
 "nbformat": 4,
 "nbformat_minor": 5
}
