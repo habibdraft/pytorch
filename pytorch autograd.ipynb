{
 "cells": [
  {
   "cell_type": "code",
   "execution_count": 1,
   "metadata": {},
   "outputs": [],
   "source": [
    "import torch\n",
    "import numpy as np\n",
    "import matplotlib.pyplot as plt\n",
    "import math"
   ]
  },
  {
   "cell_type": "code",
   "execution_count": 2,
   "metadata": {},
   "outputs": [],
   "source": [
    "#cumulative reward = sum of r_timestep * gamma**(timestep - first timestep) "
   ]
  },
  {
   "cell_type": "code",
   "execution_count": 3,
   "metadata": {},
   "outputs": [],
   "source": [
    "dtype = torch.float\n",
    "x = torch.linspace(-math.pi, math.pi, 2000, dtype=dtype)\n",
    "y = torch.sin(x)"
   ]
  },
  {
   "cell_type": "code",
   "execution_count": 4,
   "metadata": {},
   "outputs": [],
   "source": [
    "a = torch.randn((), dtype=dtype)\n",
    "b = torch.randn((), dtype=dtype)\n",
    "c = torch.randn((), dtype=dtype)\n",
    "d = torch.randn((), dtype=dtype)"
   ]
  },
  {
   "cell_type": "code",
   "execution_count": 5,
   "metadata": {},
   "outputs": [],
   "source": [
    "lr = 1e-6\n",
    "for t in range(2000):\n",
    "    y_pred = a + b*x + c*x**2 + d*x**3\n",
    "    loss = (y_pred - y).pow(2).sum().item()\n",
    "    grad_y_pred = 2.0*(y_pred - y) #derivative of individual squared diff\n",
    "    grad_a = grad_y_pred.sum()\n",
    "    grad_b = (grad_y_pred * x).sum()\n",
    "    grad_c = (grad_y_pred * x**2).sum()\n",
    "    grad_d = (grad_y_pred * x**3).sum()\n",
    "    \n",
    "    a -= lr*grad_a\n",
    "    b -= lr*grad_b\n",
    "    c -= lr*grad_c\n",
    "    d -= lr*grad_d"
   ]
  },
  {
   "cell_type": "code",
   "execution_count": 6,
   "metadata": {},
   "outputs": [
    {
     "name": "stdout",
     "output_type": "stream",
     "text": [
      "Result: y = 0.009927630424499512 + 0.8412808775901794 x + -0.0017126821912825108 x^2 + -0.09113134443759918 x^3\n",
      "tensor([ 0.1757,  0.1699,  0.1641,  ..., -0.1779, -0.1838, -0.1896])\n"
     ]
    }
   ],
   "source": [
    "print(f'Result: y = {a.item()} + {b.item()} x + {c.item()} x^2 + {d.item()} x^3')\n",
    "print(y_pred)"
   ]
  },
  {
   "cell_type": "code",
   "execution_count": 7,
   "metadata": {},
   "outputs": [],
   "source": [
    "a = torch.randn((), dtype=dtype, requires_grad=True)\n",
    "b = torch.randn((), dtype=dtype, requires_grad=True)\n",
    "c = torch.randn((), dtype=dtype, requires_grad=True)\n",
    "d = torch.randn((), dtype=dtype, requires_grad=True)"
   ]
  },
  {
   "cell_type": "code",
   "execution_count": 8,
   "metadata": {},
   "outputs": [
    {
     "name": "stdout",
     "output_type": "stream",
     "text": [
      "99 2652.847900390625\n",
      "199 1788.601806640625\n",
      "299 1207.9345703125\n",
      "399 817.4680786132812\n",
      "499 554.6722412109375\n",
      "599 377.6434020996094\n",
      "699 258.27947998046875\n",
      "799 177.7197265625\n",
      "899 123.29637145996094\n",
      "999 86.49241638183594\n",
      "1099 61.578304290771484\n",
      "1199 44.6949348449707\n",
      "1299 33.24156951904297\n",
      "1399 25.463294982910156\n",
      "1499 20.17507553100586\n",
      "1599 16.57571792602539\n",
      "1699 14.123103141784668\n",
      "1799 12.449989318847656\n",
      "1899 11.307310104370117\n",
      "1999 10.52601432800293\n"
     ]
    }
   ],
   "source": [
    "lr = 1e-6\n",
    "for t in range(2000):\n",
    "    y_pred = a + b*x + c*x**2 + d*x**3\n",
    "    loss = (y_pred - y).pow(2).sum()\n",
    "    if t % 100 == 99:\n",
    "        print(t, loss.item())\n",
    "    \n",
    "    loss.backward()\n",
    "    \n",
    "    with torch.no_grad():\n",
    "        a -= lr*a.grad\n",
    "        b -= lr*b.grad\n",
    "        c -= lr*c.grad\n",
    "        d -= lr*d.grad\n",
    "        \n",
    "        a.grad = None\n",
    "        b.grad = None\n",
    "        c.grad = None\n",
    "        d.grad = None"
   ]
  },
  {
   "cell_type": "code",
   "execution_count": 9,
   "metadata": {},
   "outputs": [
    {
     "name": "stdout",
     "output_type": "stream",
     "text": [
      "Result: y = 0.03260684758424759 + 0.8299441337585449 x + -0.005625222343951464 x^2 + -0.08951878547668457 x^3\n"
     ]
    }
   ],
   "source": [
    "print(f'Result: y = {a.item()} + {b.item()} x + {c.item()} x^2 + {d.item()} x^3')"
   ]
  },
  {
   "cell_type": "code",
   "execution_count": 10,
   "metadata": {},
   "outputs": [],
   "source": [
    "class ApproxModel(torch.autograd.Function):\n",
    "    @staticmethod\n",
    "    def forward(context, input):\n",
    "        context.save_for_backward(input)\n",
    "        return 0.5*(5*input**3 - 3*input)\n",
    "    \n",
    "    @staticmethod\n",
    "    def backward(context, grad_output):\n",
    "        input, = context.saved_tensors\n",
    "        return grad_output * 1.5 * (5*input**2 - 1)"
   ]
  },
  {
   "cell_type": "code",
   "execution_count": 11,
   "metadata": {},
   "outputs": [],
   "source": [
    "a = torch.full((), 0.0, dtype=dtype, requires_grad=True)\n",
    "b = torch.full((), -1.0, dtype=dtype, requires_grad=True)\n",
    "c = torch.full((), 0.0, dtype=dtype, requires_grad=True)\n",
    "d = torch.full((), 0.3, dtype=dtype, requires_grad=True)"
   ]
  },
  {
   "cell_type": "code",
   "execution_count": 12,
   "metadata": {},
   "outputs": [
    {
     "name": "stdout",
     "output_type": "stream",
     "text": [
      "99 209.95834350585938\n",
      "199 144.66018676757812\n",
      "299 100.70249938964844\n",
      "399 71.03519439697266\n",
      "499 50.97850799560547\n",
      "599 37.403133392333984\n",
      "699 28.206867218017578\n",
      "799 21.973188400268555\n",
      "899 17.7457275390625\n",
      "999 14.877889633178711\n",
      "1099 12.931766510009766\n",
      "1199 11.610918045043945\n",
      "1299 10.714258193969727\n",
      "1399 10.10548210144043\n",
      "1499 9.692106246948242\n",
      "1599 9.411375999450684\n",
      "1699 9.220745086669922\n",
      "1799 9.091285705566406\n",
      "1899 9.003361701965332\n",
      "1999 8.943639755249023\n"
     ]
    }
   ],
   "source": [
    "lr = 5e-6\n",
    "for t in range(2000):\n",
    "    model = ApproxModel().apply\n",
    "    y_pred = a + b*model(c + d*x)\n",
    "    loss = (y_pred - y).pow(2).sum()\n",
    "    if t % 100 == 99:\n",
    "        print(t, loss.item())\n",
    "    \n",
    "    loss.backward()\n",
    "    \n",
    "    with torch.no_grad():\n",
    "        a -= lr*a.grad\n",
    "        b -= lr*b.grad\n",
    "        c -= lr*c.grad\n",
    "        d -= lr*d.grad\n",
    "        \n",
    "        a.grad = None\n",
    "        b.grad = None\n",
    "        c.grad = None\n",
    "        d.grad = None"
   ]
  },
  {
   "cell_type": "code",
   "execution_count": 13,
   "metadata": {},
   "outputs": [
    {
     "name": "stdout",
     "output_type": "stream",
     "text": [
      "Result: y = -6.8844756562214116e-09 + -2.208526849746704 * P3(1.5037101563919464e-09 + 0.2554861009120941 x)\n"
     ]
    }
   ],
   "source": [
    "print(f'Result: y = {a.item()} + {b.item()} * P3({c.item()} + {d.item()} x)')"
   ]
  },
  {
   "cell_type": "code",
   "execution_count": null,
   "metadata": {},
   "outputs": [],
   "source": []
  }
 ],
 "metadata": {
  "kernelspec": {
   "display_name": "Python 3",
   "language": "python",
   "name": "python3"
  },
  "language_info": {
   "codemirror_mode": {
    "name": "ipython",
    "version": 3
   },
   "file_extension": ".py",
   "mimetype": "text/x-python",
   "name": "python",
   "nbconvert_exporter": "python",
   "pygments_lexer": "ipython3",
   "version": "3.8.5"
  }
 },
 "nbformat": 4,
 "nbformat_minor": 5
}
